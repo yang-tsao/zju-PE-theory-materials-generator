{
 "cells": [
  {
   "cell_type": "code",
   "execution_count": 1,
   "id": "2f90c95f",
   "metadata": {},
   "outputs": [],
   "source": [
    "import pandas as pd\n",
    "import html\n",
    "import pathlib\n",
    "from typing import Set, Dict, TextIO\n",
    "import base64\n",
    "import json\n",
    "from pypinyin import pinyin, lazy_pinyin, Style\n",
    "from __future__ import annotations"
   ]
  },
  {
   "cell_type": "code",
   "execution_count": 2,
   "id": "56fe71f6",
   "metadata": {},
   "outputs": [],
   "source": [
    "# Sample DataFrame with HTML entities\n",
    "df = pd.concat(map(pd.read_excel, pathlib.Path(\"input\").glob(\"*.xls\")))\n",
    "cols_to_unescape = [\"题目类型\", \"题干\", \"选项\", \"答案\"]\n",
    "df[cols_to_unescape] = df[cols_to_unescape].map(html.unescape, \"ignore\")"
   ]
  },
  {
   "cell_type": "code",
   "execution_count": 3,
   "id": "a62c8abe",
   "metadata": {},
   "outputs": [
    {
     "data": {
      "application/vnd.microsoft.datawrangler.viewer.v0+json": {
       "columns": [
        {
         "name": "index",
         "rawType": "int64",
         "type": "integer"
        },
        {
         "name": "题号",
         "rawType": "int64",
         "type": "integer"
        },
        {
         "name": "题目类型",
         "rawType": "object",
         "type": "string"
        },
        {
         "name": "题干",
         "rawType": "object",
         "type": "string"
        },
        {
         "name": "选项",
         "rawType": "object",
         "type": "unknown"
        },
        {
         "name": "答案",
         "rawType": "object",
         "type": "string"
        }
       ],
       "conversionMethod": "pd.DataFrame",
       "ref": "03be90f9-c2ce-4cad-bfbd-fef0f07709e7",
       "rows": [
        [
         "0",
         "15139",
         "判断题",
         "体育锻炼的负荷量无论是强度、时间还是密度都要因人、因时而异，应根据自身的实际情况安排运动负荷。",
         null,
         "正确"
        ],
        [
         "1",
         "15140",
         "判断题",
         "同一个人对运动负荷量的承受能力是一成不变的。",
         null,
         "错误"
        ],
        [
         "2",
         "15141",
         "判断题",
         "体育锻炼对人体的积极作用在短时间内就能取得成效。",
         null,
         "错误"
        ],
        [
         "3",
         "15142",
         "判断题",
         "耐力可分为有氧耐力和无氧耐力两种。",
         null,
         "正确"
        ],
        [
         "4",
         "15146",
         "判断题",
         "体质健康测试中的体重指数（BMI）=体重（千克）/身高2（米2）\n",
         null,
         "正确"
        ],
        [
         "5",
         "15147",
         "判断题",
         "因病或残疾不能参加测试学生的学生，必须向公共体艺部体质健康研究中心提交免予执行《标准》的申请。对确实丧失运动能力，免予执行《标准》的残疾学生，仍可参加三好学生、奖学金、奖学分评选。\n",
         null,
         "正确"
        ],
        [
         "6",
         "15148",
         "判断题",
         "\n根据《国家学生体质健康标准》（2014年修订）的要求，测试项目为七项：身高/体重、肺活量、50米跑、坐位体前屈、立定跳远、引体向上（男）/1分钟仰卧起坐（女）、1000米跑（男）/800米跑（女）。\n",
         null,
         "正确"
        ],
        [
         "7",
         "15149",
         "判断题",
         "学生体质健康标准成绩每学年评定一次，记入《国家学生体质健康标准登记卡》，在学生毕业时放入学生档案。",
         null,
         "正确"
        ],
        [
         "8",
         "15150",
         "判断题",
         "标准的学年总分由标准分与附加分之和构成，满分为120分。标准分由各单项指标得分与权重乘积之和组成，满分为100分。附加分根据实测成绩确定，即对成绩超过100分的加分指标进行加分，满分为20分。\n",
         null,
         "正确"
        ],
        [
         "9",
         "15151",
         "判断题",
         "学生毕业时体质健康标准的成绩和等级，按毕业当年得分和其他学年平均得分各占50%之和进行评定。",
         null,
         "正确"
        ],
        [
         "10",
         "15152",
         "判断题",
         "在参加《国家学生体质健康标准》测试和补测期间受试学生务必携带校园一卡通，如一卡通照片模糊需同时出示有效证件（学生证或身份证）。",
         null,
         "正确"
        ],
        [
         "11",
         "15153",
         "判断题",
         "\n因病或残疾等特殊身体情况，无法完成《标准》测试，需填写《免予执行<国家学生体质健康标准>申请表》，经校医疗单位证明，学院盖章，将免测申请表及校医院证明交到体艺部体质健康研究中心，经中心核准后，可免予执行《标准》测试，所填申请表存入学生档案。\n\n",
         null,
         "正确"
        ],
        [
         "12",
         "15155",
         "判断题",
         "《标准》根据学生学年总分评定等级：90.0分及以上为优秀，80.0～89.9分为良好，60.0～79.9分为及格，59.9分及以下为不及格。\n",
         null,
         "正确"
        ],
        [
         "13",
         "15156",
         "判断题",
         "体育课无故缺勤，学年累计超过应出勤次数1/10者，该学年《标准》成绩记为不及格。",
         null,
         "正确"
        ],
        [
         "14",
         "15157",
         "判断题",
         "体质健康测试根据《标准》，大学的加分指标为男生引体向上和1000米跑，女生为1分钟仰卧起坐和800米跑，各指标加分幅度均为10分。\n",
         null,
         "正确"
        ],
        [
         "15",
         "15158",
         "判断题",
         "肺活量在《国家学生体质健康标准》中所占权重为15%。",
         null,
         "正确"
        ],
        [
         "16",
         "15159",
         "判断题",
         "50米跑在《国家学生体质健康标准》中所占权重为20%。",
         null,
         "正确"
        ],
        [
         "17",
         "15160",
         "判断题",
         "学生毕业时体质健康标准的成绩和等级，按毕业当年得分和其他学年平均得分各占50%之和进行评定，《标准》测试的成绩达不到50分者按肄业处理。\n",
         null,
         "正确"
        ],
        [
         "18",
         "15163",
         "判断题",
         "雾天不宜在室外晨练。",
         null,
         "正确"
        ],
        [
         "19",
         "15164",
         "判断题",
         "就锻炼身体而言，锻炼方法采用得越多越好。",
         null,
         "错误"
        ],
        [
         "20",
         "15168",
         "判断题",
         "肺通气量是指一分钟内进入肺的气体量。",
         null,
         "错误"
        ],
        [
         "21",
         "15169",
         "判断题",
         "通过对学生的跟踪调查，证明12分钟跑对增强大学生有氧代谢能力有显著提高。",
         null,
         "正确"
        ],
        [
         "22",
         "15170",
         "判断题",
         "评定运动负荷的最常用指标是心率。",
         null,
         "正确"
        ],
        [
         "23",
         "15171",
         "判断题",
         "对在《标准》测试工作中弄虚作假者，按照浙江大学关于学生体质测试中违反规定的处理办法给予处理。",
         null,
         "正确"
        ],
        [
         "24",
         "15172",
         "判断题",
         "身高体重测试点：必须脱鞋，不得负重。",
         null,
         "正确"
        ],
        [
         "25",
         "15174",
         "判断题",
         "学生测试800米/1000米时将腕表戴在右手的手腕上，表面朝外，不得按、调腕表上的任何按钮。",
         null,
         "正确"
        ],
        [
         "26",
         "15175",
         "判断题",
         "测试每项指标之前必须先将校园卡激活，将校园卡放在读卡器上发出“嘀”声即可到每台仪器上进行测试。",
         null,
         "正确"
        ],
        [
         "27",
         "15176",
         "判断题",
         "造成运动疲劳的原因是由于训练方法不对，不循序渐进，不系统训练，运动量大，训练时间长，休息不充分等。",
         null,
         "正确"
        ],
        [
         "28",
         "15179",
         "判断题",
         "肺活量测试时必须将握杆上的电子显示屏朝上，测试时深吸气匀速吹气。",
         null,
         "正确"
        ],
        [
         "29",
         "15181",
         "判断题",
         "在测试过程中，参加测试学生如出现身体不适，应立即停止测试并告知任课教师或测试教师。",
         null,
         "正确"
        ],
        [
         "30",
         "15182",
         "判断题",
         "测试者未测完测试项目时，不得擅自离开测试中心，测试完成后，请迅速离开测试中心。",
         null,
         "正确"
        ],
        [
         "31",
         "15183",
         "判断题",
         "预防运动损伤是医务人员的事，与体育教师、教练员、运动员、体育锻炼者无关。",
         null,
         "错误"
        ],
        [
         "32",
         "15184",
         "判断题",
         "准备活动的量越大越能防止运动损伤。",
         null,
         "错误"
        ],
        [
         "33",
         "15188",
         "判断题",
         "准备活动时主要应考虑准备活动的内容、时间和量。",
         null,
         "正确"
        ],
        [
         "34",
         "15190",
         "判断题",
         "每周体育锻炼3~4次是最适宜的频度。",
         null,
         "正确"
        ],
        [
         "35",
         "15191",
         "判断题",
         "耐力素质练习应从一定的练习量开始，在此基础上逐步提高练习强度。",
         null,
         "错误"
        ],
        [
         "36",
         "15192",
         "判断题",
         "速度素质通常分为反应速度、动作速度和移动速度等。",
         null,
         "正确"
        ],
        [
         "37",
         "15195",
         "判断题",
         "柔韧素质是指人体各关节以最大的摆动幅度完成动作的能力。",
         null,
         "正确"
        ],
        [
         "38",
         "15196",
         "判断题",
         "体质是人的生命活动、劳动能力、运动能力的基础。",
         null,
         "正确"
        ],
        [
         "39",
         "15198",
         "判断题",
         "体育锻炼者对服装的选择应是衣料透气、吸湿、溶水、有弹性，否则会损伤肌肤。",
         null,
         "正确"
        ],
        [
         "40",
         "15199",
         "判断题",
         "剧烈运动后可以下水游泳，但时间不宜过长。",
         null,
         "错误"
        ],
        [
         "41",
         "15200",
         "判断题",
         "在运动前吃得过饱、饮水过多或者腹部受凉，容易引起腹痛。",
         null,
         "正确"
        ],
        [
         "42",
         "15201",
         "判断题",
         "“极点”和“第二次呼吸”是长跑中常见的生理现象，不必疑虑和恐惧。",
         null,
         "正确"
        ],
        [
         "43",
         "15202",
         "判断题",
         "剧烈运动后马上坐下或躺下休息，可防止运动性休克。",
         null,
         "错误"
        ],
        [
         "44",
         "15203",
         "判断题",
         "体育锻炼者在运动情绪低下时不易受伤，只有在运动情绪过分激动时才会受伤。",
         null,
         "错误"
        ],
        [
         "45",
         "15204",
         "判断题",
         "在摔倒时，用手或肘部直接撑地，易造成肘关节或尺骨、桡骨的损伤。",
         null,
         "正确"
        ],
        [
         "46",
         "15205",
         "判断题",
         "为了预防运动损伤应注意加强保护和帮助，特别要提高自我保护能力和意识。",
         null,
         "正确"
        ],
        [
         "47",
         "15206",
         "判断题",
         "体质是指人体的质量，体质应包括体格、体能和适应能力三部分。",
         null,
         "正确"
        ],
        [
         "48",
         "15207",
         "判断题",
         "体能是指人体的形态和结构，包括人体生长发育水平、体型、姿态与器官组织的构造。",
         null,
         "错误"
        ],
        [
         "49",
         "15208",
         "判断题",
         "人体只有承担合理的运动负荷，才能增强体质。",
         null,
         "正确"
        ]
       ],
       "shape": {
        "columns": 5,
        "rows": 933
       }
      },
      "text/html": [
       "<div>\n",
       "<style scoped>\n",
       "    .dataframe tbody tr th:only-of-type {\n",
       "        vertical-align: middle;\n",
       "    }\n",
       "\n",
       "    .dataframe tbody tr th {\n",
       "        vertical-align: top;\n",
       "    }\n",
       "\n",
       "    .dataframe thead th {\n",
       "        text-align: right;\n",
       "    }\n",
       "</style>\n",
       "<table border=\"1\" class=\"dataframe\">\n",
       "  <thead>\n",
       "    <tr style=\"text-align: right;\">\n",
       "      <th></th>\n",
       "      <th>题号</th>\n",
       "      <th>题目类型</th>\n",
       "      <th>题干</th>\n",
       "      <th>选项</th>\n",
       "      <th>答案</th>\n",
       "    </tr>\n",
       "  </thead>\n",
       "  <tbody>\n",
       "    <tr>\n",
       "      <th>0</th>\n",
       "      <td>15139</td>\n",
       "      <td>判断题</td>\n",
       "      <td>体育锻炼的负荷量无论是强度、时间还是密度都要因人、因时而异，应根据自身的实际情况安排运动负荷。</td>\n",
       "      <td>NaN</td>\n",
       "      <td>正确</td>\n",
       "    </tr>\n",
       "    <tr>\n",
       "      <th>1</th>\n",
       "      <td>15140</td>\n",
       "      <td>判断题</td>\n",
       "      <td>同一个人对运动负荷量的承受能力是一成不变的。</td>\n",
       "      <td>NaN</td>\n",
       "      <td>错误</td>\n",
       "    </tr>\n",
       "    <tr>\n",
       "      <th>2</th>\n",
       "      <td>15141</td>\n",
       "      <td>判断题</td>\n",
       "      <td>体育锻炼对人体的积极作用在短时间内就能取得成效。</td>\n",
       "      <td>NaN</td>\n",
       "      <td>错误</td>\n",
       "    </tr>\n",
       "    <tr>\n",
       "      <th>3</th>\n",
       "      <td>15142</td>\n",
       "      <td>判断题</td>\n",
       "      <td>耐力可分为有氧耐力和无氧耐力两种。</td>\n",
       "      <td>NaN</td>\n",
       "      <td>正确</td>\n",
       "    </tr>\n",
       "    <tr>\n",
       "      <th>4</th>\n",
       "      <td>15146</td>\n",
       "      <td>判断题</td>\n",
       "      <td>体质健康测试中的体重指数（BMI）=体重（千克）/身高2（米2）\\n</td>\n",
       "      <td>NaN</td>\n",
       "      <td>正确</td>\n",
       "    </tr>\n",
       "    <tr>\n",
       "      <th>...</th>\n",
       "      <td>...</td>\n",
       "      <td>...</td>\n",
       "      <td>...</td>\n",
       "      <td>...</td>\n",
       "      <td>...</td>\n",
       "    </tr>\n",
       "    <tr>\n",
       "      <th>928</th>\n",
       "      <td>142759</td>\n",
       "      <td>单选题</td>\n",
       "      <td>1932年国立浙江大学正式设立体育部，当时规定学生__________不及格且不补足学分就不...</td>\n",
       "      <td>A．早操\\nB．体操\\nC．体测\\nD．跑步</td>\n",
       "      <td>A</td>\n",
       "    </tr>\n",
       "    <tr>\n",
       "      <th>929</th>\n",
       "      <td>142760</td>\n",
       "      <td>单选题</td>\n",
       "      <td>普通健康人锻炼身体的适宜负荷量，一般采用___________来确定，即以本人最大心率的__...</td>\n",
       "      <td>A．心率百分数、65～85%\\nB．心率百分数、60～80%\\nC．心率、60～80%\\nD...</td>\n",
       "      <td>B</td>\n",
       "    </tr>\n",
       "    <tr>\n",
       "      <th>930</th>\n",
       "      <td>142761</td>\n",
       "      <td>单选题</td>\n",
       "      <td>运动效果取决于运动刺激的__________，运动量太小，对机体的影响轻微，运动效果不佳，运...</td>\n",
       "      <td>A．强度与密度、疾病\\nB．密度、运动性疾病\\nC．强度、运动性疾病\\nD．难度、疾病与损伤</td>\n",
       "      <td>B</td>\n",
       "    </tr>\n",
       "    <tr>\n",
       "      <th>931</th>\n",
       "      <td>142762</td>\n",
       "      <td>单选题</td>\n",
       "      <td>当患者因意外事故心脏停止跳动时，必须立即实施________________，争取在最短时间...</td>\n",
       "      <td>A．人工呼吸 \\nB．心肺复苏术\\nC．止血\\nD．抗休克</td>\n",
       "      <td>B</td>\n",
       "    </tr>\n",
       "    <tr>\n",
       "      <th>932</th>\n",
       "      <td>142763</td>\n",
       "      <td>单选题</td>\n",
       "      <td>实施心肺复苏术时胸部按压频率最少__________次/min，按压深度胸骨下陷最少____...</td>\n",
       "      <td>A．100、4\\nB．30、5\\nC．100、5\\nD．200、5</td>\n",
       "      <td>C</td>\n",
       "    </tr>\n",
       "  </tbody>\n",
       "</table>\n",
       "<p>933 rows × 5 columns</p>\n",
       "</div>"
      ],
      "text/plain": [
       "         题号 题目类型                                                 题干  \\\n",
       "0     15139  判断题    体育锻炼的负荷量无论是强度、时间还是密度都要因人、因时而异，应根据自身的实际情况安排运动负荷。   \n",
       "1     15140  判断题                             同一个人对运动负荷量的承受能力是一成不变的。   \n",
       "2     15141  判断题                           体育锻炼对人体的积极作用在短时间内就能取得成效。   \n",
       "3     15142  判断题                                  耐力可分为有氧耐力和无氧耐力两种。   \n",
       "4     15146  判断题                 体质健康测试中的体重指数（BMI）=体重（千克）/身高2（米2）\\n   \n",
       "..      ...  ...                                                ...   \n",
       "928  142759  单选题  1932年国立浙江大学正式设立体育部，当时规定学生__________不及格且不补足学分就不...   \n",
       "929  142760  单选题  普通健康人锻炼身体的适宜负荷量，一般采用___________来确定，即以本人最大心率的__...   \n",
       "930  142761  单选题  运动效果取决于运动刺激的__________，运动量太小，对机体的影响轻微，运动效果不佳，运...   \n",
       "931  142762  单选题  当患者因意外事故心脏停止跳动时，必须立即实施________________，争取在最短时间...   \n",
       "932  142763  单选题  实施心肺复苏术时胸部按压频率最少__________次/min，按压深度胸骨下陷最少____...   \n",
       "\n",
       "                                                    选项  答案  \n",
       "0                                                  NaN  正确  \n",
       "1                                                  NaN  错误  \n",
       "2                                                  NaN  错误  \n",
       "3                                                  NaN  正确  \n",
       "4                                                  NaN  正确  \n",
       "..                                                 ...  ..  \n",
       "928                             A．早操\\nB．体操\\nC．体测\\nD．跑步   A  \n",
       "929  A．心率百分数、65～85%\\nB．心率百分数、60～80%\\nC．心率、60～80%\\nD...   B  \n",
       "930     A．强度与密度、疾病\\nB．密度、运动性疾病\\nC．强度、运动性疾病\\nD．难度、疾病与损伤   B  \n",
       "931                      A．人工呼吸 \\nB．心肺复苏术\\nC．止血\\nD．抗休克   B  \n",
       "932                  A．100、4\\nB．30、5\\nC．100、5\\nD．200、5   C  \n",
       "\n",
       "[933 rows x 5 columns]"
      ]
     },
     "execution_count": 3,
     "metadata": {},
     "output_type": "execute_result"
    }
   ],
   "source": [
    "df.reset_index(drop=True, inplace=True)\n",
    "df"
   ]
  },
  {
   "cell_type": "code",
   "execution_count": 4,
   "id": "e3acc98b",
   "metadata": {},
   "outputs": [],
   "source": [
    "class TrieNode:\n",
    "    count: int\n",
    "    is_end_of_word: bool\n",
    "    children: Dict[str, TrieNode]\n",
    "    content: dict\n",
    "    prob_index: int\n",
    "    node_id: int\n",
    "\n",
    "    def __init__(self, node_id):\n",
    "        self.children = {}\n",
    "        self.count = 0\n",
    "        self.is_end_of_word = False\n",
    "        self.content = {}\n",
    "        self.prob_index = -1\n",
    "        self.node_id = node_id\n",
    "\n",
    "\n",
    "class Trie:\n",
    "\n",
    "    def __init__(self):\n",
    "        self.root = TrieNode(0)\n",
    "        self.node_count = 1\n",
    "\n",
    "    def insert(self, word, prob_index):\n",
    "        node = self.root\n",
    "        node.count += 1\n",
    "        for char in word:\n",
    "            # If the character is not already a child, add it\n",
    "            if char not in node.children:\n",
    "                node.children[char] = TrieNode(self.node_count)\n",
    "                self.node_count += 1\n",
    "            node = node.children[char]\n",
    "            node.count += 1\n",
    "        # Mark the end of a word\n",
    "        node.is_end_of_word = True\n",
    "        node.prob_index = prob_index\n",
    "\n",
    "    def search(self, word):\n",
    "        node = self.root\n",
    "        for char in word:\n",
    "            # If the character isn't found, the word doesn't exist\n",
    "            if char not in node.children:\n",
    "                return False\n",
    "            node = node.children[char]\n",
    "        # Return True only if it's the end of a valid word\n",
    "        return node.is_end_of_word\n",
    "\n",
    "    def starts_with(self, prefix):\n",
    "        node = self.root\n",
    "        for char in prefix:\n",
    "            # If the character isn't found, the prefix doesn't exist\n",
    "            if char not in node.children:\n",
    "                return False\n",
    "            node = node.children[char]\n",
    "        return True"
   ]
  },
  {
   "cell_type": "code",
   "execution_count": 5,
   "id": "b29bcd7b",
   "metadata": {},
   "outputs": [],
   "source": [
    "probs = df[\"题干\"].to_dict()\n",
    "h = Trie()\n",
    "for u, v in probs.items():\n",
    "    h.insert(''.join(filter(str.isalnum, v)), u)"
   ]
  },
  {
   "cell_type": "code",
   "execution_count": 6,
   "id": "a558fcfd",
   "metadata": {},
   "outputs": [
    {
     "data": {
      "text/plain": [
       "'D'"
      ]
     },
     "execution_count": 6,
     "metadata": {},
     "output_type": "execute_result"
    }
   ],
   "source": [
    "df.loc[77,'答案']"
   ]
  },
  {
   "cell_type": "code",
   "execution_count": 7,
   "id": "eafa372a",
   "metadata": {},
   "outputs": [],
   "source": [
    "def format_prob(index: int):\n",
    "    s = {}\n",
    "    s[\"题干\"] = df.loc[index, \"题干\"]\n",
    "    if pd.notna(df.loc[index, \"选项\"]):\n",
    "        s[\"选项\"] = df.loc[index, \"选项\"]\n",
    "    if pd.notna(df.loc[index, \"答案\"]):\n",
    "        s[\"答案\"] = df.loc[index, \"答案\"]\n",
    "    return s"
   ]
  },
  {
   "cell_type": "code",
   "execution_count": 8,
   "id": "d0ad3eb6",
   "metadata": {},
   "outputs": [],
   "source": [
    "def Dfs(prefix: str, x: TrieNode) -> int:\n",
    "    if x.is_end_of_word:\n",
    "        x.content[\"prob\"] = format_prob(x.prob_index)\n",
    "    elif len(x.children) == 1:  # 由儿子全权代表\n",
    "        for u, v in x.children.items():\n",
    "            return Dfs(prefix + u, v)\n",
    "    sons = []\n",
    "    for u, v in x.children.items():\n",
    "        sons += [Dfs(prefix + u, v)]\n",
    "    x.content[\"prefix\"] = f\"{prefix if prefix else \"起始索引\"}: \\n\"\n",
    "    if sons:\n",
    "        x.content[\"sons\"] = sons\n",
    "    x.content[\"node_id\"] = x.node_id\n",
    "    return prefix, x.node_id\n",
    "\n",
    "\n",
    "Dfs(\"\", h.root)\n",
    "\n",
    "\n",
    "def Dfs2(x: TrieNode) -> dict:\n",
    "    if x.content:\n",
    "        entries.append(x.content)\n",
    "    for v in x.children.values():\n",
    "        Dfs2(v)\n",
    "\n",
    "\n",
    "entries = []\n",
    "Dfs2(h.root)"
   ]
  },
  {
   "cell_type": "code",
   "execution_count": 11,
   "id": "0e8f94f5",
   "metadata": {},
   "outputs": [],
   "source": [
    "e0s = []\n",
    "for son in sorted(\n",
    "    entries[0][\"sons\"],\n",
    "    key=lambda y: (lambda x: x if x.isascii() else pinyin(x, style=Style.TONE3)[0][0])(\n",
    "        y[0][0]\n",
    "    ),\n",
    "):\n",
    "    son = list(son)\n",
    "    if not son[0][0].isascii():\n",
    "        son[0] = f\"{pinyin(son[0][0])[0][0]}-{son[0]}\"\n",
    "    e0s.append(son)\n",
    "entries[0][\"sons\"] = e0s\n",
    "with open(\"data.json\", \"w\") as f:\n",
    "    json.dump(\n",
    "        entries,\n",
    "        f,\n",
    "        ensure_ascii=False,\n",
    "        indent=4,\n",
    "    )"
   ]
  }
 ],
 "metadata": {
  "kernelspec": {
   "display_name": "Python 3",
   "language": "python",
   "name": "python3"
  },
  "language_info": {
   "codemirror_mode": {
    "name": "ipython",
    "version": 3
   },
   "file_extension": ".py",
   "mimetype": "text/x-python",
   "name": "python",
   "nbconvert_exporter": "python",
   "pygments_lexer": "ipython3",
   "version": "3.13.3"
  }
 },
 "nbformat": 4,
 "nbformat_minor": 5
}
